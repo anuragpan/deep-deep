{
  "nbformat": 4,
  "nbformat_minor": 0,
  "metadata": {
    "colab": {
      "name": "ALPR",
      "provenance": [],
      "collapsed_sections": [],
      "toc_visible": true
    },
    "kernelspec": {
      "name": "python3",
      "display_name": "Python 3"
    },
    "accelerator": "GPU"
  },
  "cells": [
    {
      "cell_type": "markdown",
      "metadata": {
        "id": "gi6rYC49_3aC",
        "colab_type": "text"
      },
      "source": [
        "#Autimatic License Plate Recognition for Indian vehicles"
      ]
    },
    {
      "cell_type": "code",
      "metadata": {
        "id": "oU0A4jtba8CZ",
        "colab_type": "code",
        "colab": {}
      },
      "source": [
        "#imports\n",
        "import glob"
      ],
      "execution_count": 0,
      "outputs": []
    },
    {
      "cell_type": "code",
      "metadata": {
        "id": "1A_LwAbmZIVU",
        "colab_type": "code",
        "colab": {}
      },
      "source": [
        "#function to show images in given directory\n",
        "def show_dir_images(imdir):\n",
        "\n",
        "  files = []\n",
        "\n",
        "  for image in sorted(glob.glob(imdir + '/*.jpg')):\n",
        "    files.append(image)\n",
        "  for image in sorted(glob.glob(imdir + '/*.png')):\n",
        "    files.append(image)\n",
        "\n",
        "\n",
        "  for image in files:\n",
        "    print(image)\n",
        "    imShow(image)\n",
        "\n",
        "\n",
        "def imShow(path):\n",
        "  import cv2\n",
        "  import matplotlib.pyplot as plt\n",
        "  %matplotlib inline\n",
        "\n",
        "  image = cv2.imread(path)\n",
        "  height, width = image.shape[:2]\n",
        "  resized_image = cv2.resize(image,(3*width, 3*height), interpolation = cv2.INTER_CUBIC)\n",
        "\n",
        "  fig = plt.gcf()\n",
        "  fig.set_size_inches(18, 10)\n",
        "  plt.axis(\"off\")\n",
        "  #plt.rcParams['figure.figsize'] = [10, 5]\n",
        "  plt.imshow(cv2.cvtColor(resized_image, cv2.COLOR_BGR2RGB))\n",
        "  plt.show()"
      ],
      "execution_count": 0,
      "outputs": []
    },
    {
      "cell_type": "code",
      "metadata": {
        "id": "k7BYQM-6kAq_",
        "colab_type": "code",
        "colab": {}
      },
      "source": [
        "#clone git repo\n",
        "!git clone https://github.com/ramcho3855/alpr-for-indian-vehicles.git\n",
        "%cd alpr-for-indian-vehicles/"
      ],
      "execution_count": 0,
      "outputs": []
    },
    {
      "cell_type": "code",
      "metadata": {
        "id": "cu1667kjmtHO",
        "colab_type": "code",
        "colab": {}
      },
      "source": [
        "#I saved CUDNN to my drive. You can do the same. If you don't run without cudnn\n",
        "# !tar -xzvf /content/drive/My\\ Drive/ALPR/cudnn-10.0-linux-x64-v7.5.0.56.tgz -C /usr/local/\n",
        "# !chmod a+r /usr/local/cuda/include/cudnn.h"
      ],
      "execution_count": 0,
      "outputs": []
    },
    {
      "cell_type": "code",
      "metadata": {
        "id": "Oh-D_ZhF9Ktj",
        "colab_type": "code",
        "colab": {}
      },
      "source": [
        "#if you have cudnn configured run the following command to set CUDNN=1 in darknet Makefile\n",
        "# !sed -i 's/CUDNN=0/CUDNN=1/' darknet/gpu/Makefile"
      ],
      "execution_count": 0,
      "outputs": []
    },
    {
      "cell_type": "code",
      "metadata": {
        "id": "sPIj5jSymVaN",
        "colab_type": "code",
        "colab": {}
      },
      "source": [
        "%cd darknet\n",
        "#comment next two lines to run on CPU only\n",
        "!rm Makefile\n",
        "!mv ./gpu/Makefile ./Makefile\n",
        "!make\n",
        "%cd .."
      ],
      "execution_count": 0,
      "outputs": []
    },
    {
      "cell_type": "code",
      "metadata": {
        "id": "rwcW6x2S5Njq",
        "colab_type": "code",
        "colab": {}
      },
      "source": [
        "#download network files\n",
        "!bash get-networks.sh"
      ],
      "execution_count": 0,
      "outputs": []
    },
    {
      "cell_type": "code",
      "metadata": {
        "id": "Sy7QPrRetV2L",
        "colab_type": "code",
        "colab": {}
      },
      "source": [
        "#run this to detect lp on videos\n",
        "#you can check(download) the output of this example in samples/output directory \n",
        "!bash video.sh -i samples/video/test.mp4 -o samples/output -c samples/output/results.csv"
      ],
      "execution_count": 0,
      "outputs": []
    },
    {
      "cell_type": "code",
      "metadata": {
        "id": "wMm4PuLJflix",
        "colab_type": "code",
        "colab": {}
      },
      "source": [
        "#run this to see input images\n",
        "#show_dir_images('samples/input')"
      ],
      "execution_count": 0,
      "outputs": []
    },
    {
      "cell_type": "code",
      "metadata": {
        "id": "zkboDh6uqLnv",
        "colab_type": "code",
        "colab": {}
      },
      "source": [
        "#run this to detect lp on images\n",
        "!bash run.sh -i samples/input -o samples/output -c samples/output/res.csv"
      ],
      "execution_count": 0,
      "outputs": []
    },
    {
      "cell_type": "code",
      "metadata": {
        "id": "KJOdQwJEaoYv",
        "colab_type": "code",
        "colab": {}
      },
      "source": [
        "#run this to see predicted images\n",
        "# show_dir_images('samples/output')"
      ],
      "execution_count": 0,
      "outputs": []
    }
  ]
}